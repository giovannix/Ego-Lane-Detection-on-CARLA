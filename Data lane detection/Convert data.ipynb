{
 "cells": [
  {
   "cell_type": "code",
   "execution_count": 1,
   "metadata": {},
   "outputs": [],
   "source": [
    "import numpy as np\n",
    "import pickle\n",
    "import cv2\n",
    "import glob\n",
    "import os\n",
    "from tqdm import tqdm\n",
    "import matplotlib.pyplot as plt"
   ]
  },
  {
   "cell_type": "code",
   "execution_count": 2,
   "metadata": {},
   "outputs": [],
   "source": [
    "images = []\n",
    "ground_truth = []\n",
    "\n",
    "for image in glob.glob('./raw/*.jpg'):\n",
    "    images.append(image)\n",
    "for image in glob.glob('./rotated/raw/*.jpg'):\n",
    "    images.append(image)\n",
    "for image in glob.glob('./flipped/raw/*.jpg'):\n",
    "    images.append(image)\n",
    "for image in glob.glob('./flipped/rotated/raw/*.jpg'):\n",
    "    images.append(image)\n",
    "\n",
    "for gt in glob.glob('./warped/*.jpg'):\n",
    "    ground_truth.append(gt)\n",
    "for gt in glob.glob('./rotated/warped/*.jpg'):\n",
    "    ground_truth.append(gt)\n",
    "for gt in glob.glob('./flipped/warped/*.jpg'):\n",
    "    ground_truth.append(gt)\n",
    "for gt in glob.glob('./flipped/rotated/warped/*.jpg'):\n",
    "    ground_truth.append(gt)"
   ]
  },
  {
   "cell_type": "code",
   "execution_count": 3,
   "metadata": {},
   "outputs": [
    {
     "name": "stdout",
     "output_type": "stream",
     "text": [
      "13088 13088\n"
     ]
    }
   ],
   "source": [
    "print(len(images),len(ground_truth))\n",
    "dim = (160, 80)"
   ]
  },
  {
   "cell_type": "code",
   "execution_count": 4,
   "metadata": {},
   "outputs": [],
   "source": [
    "def resize_gt_image(image):\n",
    "    gt = cv2.resize(image,dim)\n",
    "    gt = gt[:,:,1]\n",
    "    gt = np.reshape(gt,(80,160,1))\n",
    "    return gt"
   ]
  },
  {
   "cell_type": "code",
   "execution_count": 5,
   "metadata": {},
   "outputs": [],
   "source": [
    "def resize_raw_image(image):\n",
    "    image = cv2.resize(image,dim)\n",
    "    return image"
   ]
  },
  {
   "cell_type": "code",
   "execution_count": 6,
   "metadata": {},
   "outputs": [],
   "source": [
    "def convert_list_to_pickle(name_file,image_list):\n",
    "    with open(f\"{name_file}.pkl\", 'wb') as f:\n",
    "        pickle.dump(image_list, f)"
   ]
  },
  {
   "cell_type": "code",
   "execution_count": 7,
   "metadata": {},
   "outputs": [],
   "source": [
    "image = cv2.imread(images[0])\n",
    "image = resize_raw_image(image)\n",
    "\n",
    "#cv2.imshow(\"Example train image\",image)\n",
    "\n",
    "gt = cv2.imread(ground_truth[0])\n",
    "gt = resize_gt_image(gt)\n",
    "\n",
    "#cv2.imshow(\"Example ground truth\",gt)\n",
    "\n",
    "#cv2.waitKey(0) \n",
    "#cv2.destroyAllWindows()"
   ]
  },
  {
   "cell_type": "code",
   "execution_count": 8,
   "metadata": {},
   "outputs": [],
   "source": [
    "images_resized = []\n",
    "ground_truth_resized = []"
   ]
  },
  {
   "cell_type": "code",
   "execution_count": null,
   "metadata": {
    "scrolled": false
   },
   "outputs": [
    {
     "name": "stderr",
     "output_type": "stream",
     "text": [
      " 10%|████████                                                                     | 1367/13088 [01:49<09:00, 21.69it/s]"
     ]
    }
   ],
   "source": [
    "i = 0\n",
    "for image in tqdm(images):\n",
    "    image = cv2.imread(image)\n",
    "    image = resize_raw_image(image)\n",
    "    images_resized.append(image)\n",
    "    if (len(images_resized) == 5000 ):\n",
    "        i+=1\n",
    "        convert_list_to_pickle(f'images_{i}',images_resized)\n",
    "        images_resized = []   \n",
    "i+=1  \n",
    "convert_list_to_pickle(f'images_{i}',images_resized)"
   ]
  },
  {
   "cell_type": "code",
   "execution_count": 11,
   "metadata": {},
   "outputs": [
    {
     "name": "stderr",
     "output_type": "stream",
     "text": [
      "100%|████████████████████████████████████████████████████████████████████████████| 13088/13088 [05:13<00:00, 41.81it/s]\n"
     ]
    }
   ],
   "source": [
    "i = 0   \n",
    "for gt in tqdm(ground_truth):\n",
    "    gt = cv2.imread(gt)\n",
    "    gt = resize_gt_image(gt)\n",
    "    ground_truth_resized.append(gt)\n",
    "    if (len(ground_truth_resized) == 5000):\n",
    "        i+=1\n",
    "        convert_list_to_pickle(f'labels_{i}',ground_truth_resized)\n",
    "        ground_truth_resized = []\n",
    "\n",
    "i+=1\n",
    "convert_list_to_pickle(f'labels_{i}',ground_truth_resized)"
   ]
  },
  {
   "cell_type": "code",
   "execution_count": null,
   "metadata": {},
   "outputs": [],
   "source": [
    "train_images1 = pickle.load(open(\"raw_images_1.pkl\", \"rb\" ))\n",
    "train_images2 = pickle.load(open(\"raw_images_2.pkl\", \"rb\" ))\n",
    "train_images3 = pickle.load(open(\"raw_images_3.pkl\", \"rb\" ))\n",
    "print(len(train_images1),len(train_images2),len(train_images3))\n",
    "\n",
    "ground_truth1 = pickle.load(open(\"labels_1.pkl\", \"rb\" ))\n",
    "ground_truth2 = pickle.load(open(\"labels_2.pkl\", \"rb\" ))\n",
    "ground_truth3 = pickle.load(open(\"labels_3.pkl\", \"rb\" ))\n",
    "print(len(ground_truth1),len(ground_truth2),len(ground_truth3))"
   ]
  },
  {
   "cell_type": "code",
   "execution_count": null,
   "metadata": {},
   "outputs": [],
   "source": [
    "print(train_images1[0].shape)\n",
    "print(ground_truth1[0].shape)\n",
    "\n",
    "#cv2.imshow(\"Example train image\",train_images1[0])\n",
    "cv2.imshow(\"Example ground truth\",ground_truth1[0])\n",
    "\n",
    "cv2.waitKey(0) \n",
    "cv2.destroyAllWindows()"
   ]
  },
  {
   "cell_type": "code",
   "execution_count": null,
   "metadata": {},
   "outputs": [],
   "source": []
  }
 ],
 "metadata": {
  "kernelspec": {
   "display_name": "Python 3",
   "language": "python",
   "name": "python3"
  },
  "language_info": {
   "codemirror_mode": {
    "name": "ipython",
    "version": 3
   },
   "file_extension": ".py",
   "mimetype": "text/x-python",
   "name": "python",
   "nbconvert_exporter": "python",
   "pygments_lexer": "ipython3",
   "version": "3.7.9"
  }
 },
 "nbformat": 4,
 "nbformat_minor": 4
}
