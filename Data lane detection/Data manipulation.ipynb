{
 "cells": [
  {
   "cell_type": "code",
   "execution_count": 3,
   "metadata": {},
   "outputs": [],
   "source": [
    "import numpy as np\n",
    "import cv2\n",
    "import glob\n",
    "import os"
   ]
  },
  {
   "cell_type": "code",
   "execution_count": 109,
   "metadata": {},
   "outputs": [],
   "source": [
    "images = []\n",
    "ground_truth = []\n",
    "\n",
    "for image in glob.glob('./raw/*'):\n",
    "    images.append(image)\n",
    "    \n",
    "for gt in glob.glob('./warped/*'):\n",
    "    ground_truth.append(gt)"
   ]
  },
  {
   "cell_type": "code",
   "execution_count": 107,
   "metadata": {},
   "outputs": [],
   "source": [
    "images = []\n",
    "ground_truth = []\n",
    "\n",
    "for image in os.listdir('./raw/'):\n",
    "    images.append(image)\n",
    "    \n",
    "for gt in os.listdir('./warped/'):\n",
    "    ground_truth.append(gt)"
   ]
  },
  {
   "cell_type": "code",
   "execution_count": 105,
   "metadata": {},
   "outputs": [],
   "source": [
    "#Rename ground truth images to be the same of respective raw image\n",
    "def rename_files():\n",
    "    for gt in ground_truth:\n",
    "        gt_new_name = gt.split('\\\\')[1].split('.')[0]\n",
    "        gt_new_name = '{:06d}'.format(int(gt_new_name))\n",
    "        gt_new_name = gt.split('\\\\')[0]+'\\\\'+gt_new_name+'.jpg'\n",
    "        os.rename(gt,gt_new_name)"
   ]
  },
  {
   "cell_type": "code",
   "execution_count": 106,
   "metadata": {},
   "outputs": [],
   "source": [
    "def convert_files():\n",
    "    i = 0\n",
    "    for image in images:\n",
    "        if image.split('.')[-1] == 'png': #Check if the extension is png\n",
    "            if os.path.getsize(image) < 220000: #Check if the image is corrupted\n",
    "                os.remove(image)\n",
    "            else:\n",
    "                image_raw = cv2.imread(image)\n",
    "                image_name = '.'+image.split('.')[1]+'.jpg'\n",
    "                cv2.imwrite(image_name, image_raw, [int(cv2.IMWRITE_JPEG_QUALITY), 100])\n",
    "                os.remove(image)"
   ]
  },
  {
   "cell_type": "code",
   "execution_count": 108,
   "metadata": {},
   "outputs": [],
   "source": [
    "#If the raw image dont have gt, i will delete it the same thing for gt\n",
    "def delete_missing_images():\n",
    "    for image in images:\n",
    "        if image not in ground_truth:\n",
    "            os.remove(\"./raw/\"+image)\n",
    "    for gt in ground_truth:\n",
    "        if gt not in images:\n",
    "            os.remove(\"./warped/\"+gt)"
   ]
  },
  {
   "cell_type": "code",
   "execution_count": 100,
   "metadata": {},
   "outputs": [
    {
     "name": "stdout",
     "output_type": "stream",
     "text": [
      "2617 2617\n"
     ]
    }
   ],
   "source": [
    "print(len(images),len(ground_truth))"
   ]
  }
 ],
 "metadata": {
  "kernelspec": {
   "display_name": "Python 3",
   "language": "python",
   "name": "python3"
  },
  "language_info": {
   "codemirror_mode": {
    "name": "ipython",
    "version": 3
   },
   "file_extension": ".py",
   "mimetype": "text/x-python",
   "name": "python",
   "nbconvert_exporter": "python",
   "pygments_lexer": "ipython3",
   "version": "3.7.9"
  }
 },
 "nbformat": 4,
 "nbformat_minor": 4
}
