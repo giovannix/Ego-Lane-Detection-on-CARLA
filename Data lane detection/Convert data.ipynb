{
 "cells": [
  {
   "cell_type": "code",
   "execution_count": null,
   "metadata": {},
   "outputs": [],
   "source": [
    "import numpy as np\n",
    "import pickle\n",
    "import cv2\n",
    "import glob\n",
    "import os"
   ]
  },
  {
   "cell_type": "code",
   "execution_count": null,
   "metadata": {},
   "outputs": [],
   "source": [
    "images = []\n",
    "ground_truth = []\n",
    "\n",
    "for image in glob.glob('./raw/*.jpg'):\n",
    "    images.append(image)\n",
    "for image in glob.glob('./rotated/raw/*.jpg'):\n",
    "    images.append(image)\n",
    "for image in glob.glob('./flipped/raw/*.jpg'):\n",
    "    images.append(image)\n",
    "for image in glob.glob('./flipped/rotated/raw/*.jpg'):\n",
    "    images.append(image)\n",
    "\n",
    "for gt in glob.glob('./warped/*.jpg'):\n",
    "    ground_truth.append(gt)\n",
    "for gt in glob.glob('./rotated/warped/*.jpg'):\n",
    "    ground_truth.append(gt)\n",
    "for gt in glob.glob('./flipped/warped/*.jpg'):\n",
    "    ground_truth.append(gt)\n",
    "for gt in glob.glob('./flipped/rotated/warped/*.jpg'):\n",
    "    ground_truth.append(gt)"
   ]
  }
 ],
 "metadata": {
  "kernelspec": {
   "display_name": "Python 3",
   "language": "python",
   "name": "python3"
  },
  "language_info": {
   "codemirror_mode": {
    "name": "ipython",
    "version": 3
   },
   "file_extension": ".py",
   "mimetype": "text/x-python",
   "name": "python",
   "nbconvert_exporter": "python",
   "pygments_lexer": "ipython3",
   "version": "3.7.9"
  }
 },
 "nbformat": 4,
 "nbformat_minor": 4
}
