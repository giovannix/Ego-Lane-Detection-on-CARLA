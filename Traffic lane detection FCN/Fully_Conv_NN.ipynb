{
  "nbformat": 4,
  "nbformat_minor": 0,
  "metadata": {
    "kernelspec": {
      "display_name": "Python 3",
      "language": "python",
      "name": "python3"
    },
    "language_info": {
      "codemirror_mode": {
        "name": "ipython",
        "version": 3
      },
      "file_extension": ".py",
      "mimetype": "text/x-python",
      "name": "python",
      "nbconvert_exporter": "python",
      "pygments_lexer": "ipython3",
      "version": "3.7.9"
    },
    "colab": {
      "name": "Fully Conv NN.ipynb",
      "provenance": [],
      "collapsed_sections": []
    }
  },
  "cells": [
    {
      "cell_type": "code",
      "metadata": {
        "id": "vGJBONlA8sIt",
        "colab": {
          "base_uri": "https://localhost:8080/"
        },
        "outputId": "67617529-597d-4add-b30c-c7c1bd16fc6a"
      },
      "source": [
        "from google.colab import drive\n",
        "drive.mount('/content/drive')"
      ],
      "execution_count": null,
      "outputs": [
        {
          "output_type": "stream",
          "text": [
            "Mounted at /content/drive\n"
          ],
          "name": "stdout"
        }
      ]
    },
    {
      "cell_type": "code",
      "metadata": {
        "id": "IHJnKoUu7Q03",
        "colab": {
          "base_uri": "https://localhost:8080/"
        },
        "outputId": "6fa8ecbe-d368-41e4-a44c-e4b06e2afdbd"
      },
      "source": [
        "import numpy as np\n",
        "import pickle\n",
        "from google.colab.patches import cv2_imshow\n",
        "import matplotlib.pyplot as plt\n",
        "from sklearn.utils import shuffle\n",
        "from sklearn.model_selection import train_test_split\n",
        "\n",
        "# Import necessary items from Keras\n",
        "import tensorflow as tf\n",
        "#from tensorflow import keras\n",
        "from tensorflow.keras import Sequential\n",
        "from tensorflow.keras.layers import Activation, Dropout, UpSampling2D\n",
        "from tensorflow.keras.layers import Conv2DTranspose, Conv2D, MaxPooling2D, BatchNormalization\n",
        "from tensorflow.keras.preprocessing.image import ImageDataGenerator\n",
        "from tensorflow.keras import regularizers\n",
        "from tensorflow.keras.metrics import Accuracy,MeanSquaredError \n",
        "\n",
        "\n",
        "print(\"Tensorflow version:\",tf.__version__)"
      ],
      "execution_count": null,
      "outputs": [
        {
          "output_type": "stream",
          "text": [
            "Tensorflow version: 2.3.0\n"
          ],
          "name": "stdout"
        }
      ]
    },
    {
      "cell_type": "code",
      "metadata": {
        "id": "clYdpPpG7Q06"
      },
      "source": [
        "def create_model(input_shape, pool_size):\n",
        "    # Create the actual neural network here\n",
        "    model = Sequential()\n",
        "    # Normalizes incoming inputs. First layer needs the input shape to work\n",
        "    model.add(BatchNormalization(input_shape=input_shape))\n",
        "\n",
        "    # Below layers were re-named for easier reading of model summary; this not necessary\n",
        "    # Conv Layer 1\n",
        "    model.add(Conv2D(8, (3, 3), padding='valid', strides=(1,1), activation = 'relu', name = 'Conv1'))\n",
        "\n",
        "    # Conv Layer 2\n",
        "    model.add(Conv2D(16, (3, 3), padding='valid', strides=(1,1), activation = 'relu', name = 'Conv2'))\n",
        "\n",
        "    # Pooling 1\n",
        "    model.add(MaxPooling2D(pool_size=pool_size))\n",
        "\n",
        "    # Conv Layer 3\n",
        "    model.add(Conv2D(16, (3, 3), padding='valid', strides=(1,1), activation = 'relu', name = 'Conv3'))\n",
        "    model.add(Dropout(0.2))\n",
        "\n",
        "    # Conv Layer 4\n",
        "    model.add(Conv2D(32, (3, 3), padding='valid', strides=(1,1), activation = 'relu', name = 'Conv4'))\n",
        "    model.add(Dropout(0.2))\n",
        "\n",
        "    # Conv Layer 5\n",
        "    model.add(Conv2D(32, (3, 3), padding='valid', strides=(1,1), activation = 'relu', name = 'Conv5'))\n",
        "    model.add(Dropout(0.2))\n",
        "\n",
        "    # Pooling 2\n",
        "    model.add(MaxPooling2D(pool_size=pool_size))\n",
        "\n",
        "    # Conv Layer 6\n",
        "    model.add(Conv2D(64, (3, 3), padding='valid', strides=(1,1), activation = 'relu', name = 'Conv6'))\n",
        "    model.add(Dropout(0.2))\n",
        "\n",
        "    # Conv Layer 7\n",
        "    model.add(Conv2D(64, (3, 3), padding='valid', strides=(1,1), activation = 'relu', name = 'Conv7'))\n",
        "    model.add(Dropout(0.2))\n",
        "\n",
        "    # Pooling 3\n",
        "    model.add(MaxPooling2D(pool_size=pool_size))\n",
        "\n",
        "    # Upsample 1\n",
        "    model.add(UpSampling2D(size=pool_size))\n",
        "\n",
        "    # Deconv 1\n",
        "    model.add(Conv2DTranspose(64, (3, 3), padding='valid', strides=(1,1), activation = 'relu', name = 'Deconv1'))\n",
        "    model.add(Dropout(0.2))\n",
        "\n",
        "    # Deconv 2\n",
        "    model.add(Conv2DTranspose(64, (3, 3), padding='valid', strides=(1,1), activation = 'relu', name = 'Deconv2'))\n",
        "    model.add(Dropout(0.2))\n",
        "\n",
        "    # Upsample 2\n",
        "    model.add(UpSampling2D(size=pool_size))\n",
        "\n",
        "    # Deconv 3\n",
        "    model.add(Conv2DTranspose(32, (3, 3), padding='valid', strides=(1,1), activation = 'relu', name = 'Deconv3'))\n",
        "    model.add(Dropout(0.2))\n",
        "\n",
        "    # Deconv 4\n",
        "    model.add(Conv2DTranspose(32, (3, 3), padding='valid', strides=(1,1), activation = 'relu', name = 'Deconv4'))\n",
        "    model.add(Dropout(0.2))\n",
        "\n",
        "    # Deconv 5\n",
        "    model.add(Conv2DTranspose(16, (3, 3), padding='valid', strides=(1,1), activation = 'relu', name = 'Deconv5'))\n",
        "    model.add(Dropout(0.2))\n",
        "\n",
        "    # Upsample 3\n",
        "    model.add(UpSampling2D(size=pool_size))\n",
        "\n",
        "    # Deconv 6\n",
        "    model.add(Conv2DTranspose(16, (3, 3), padding='valid', strides=(1,1), activation = 'relu', name = 'Deconv6'))\n",
        "\n",
        "    # Final layer - only including one channel so 1 filter\n",
        "    model.add(Conv2DTranspose(1, (3, 3), padding='valid', strides=(1,1), activation = 'relu', name = 'Final'))\n",
        "\n",
        "    return model"
      ],
      "execution_count": null,
      "outputs": []
    },
    {
      "cell_type": "code",
      "metadata": {
        "id": "1akJKxcK7Q09"
      },
      "source": [
        "# Load training images\n",
        "train_images = pickle.load(open(\"/content/drive/My Drive/Ego-Lane-Detection-on-CARLA/images.pkl\", \"rb\" ))\n",
        "\n",
        "# Load image labels\n",
        "labels = pickle.load(open(\"/content/drive/My Drive/Ego-Lane-Detection-on-CARLA/labels.pkl\", \"rb\" ))\n",
        "\n",
        "# Make into arrays as the neural network wants these\n",
        "train_images = np.array(train_images)\n",
        "labels = np.array(labels)"
      ],
      "execution_count": null,
      "outputs": []
    },
    {
      "cell_type": "code",
      "metadata": {
        "id": "5W9nB0fyiefY",
        "colab": {
          "base_uri": "https://localhost:8080/",
          "height": 370
        },
        "outputId": "cf245982-540a-44a4-d4e0-75ce1cfe6a09"
      },
      "source": [
        "print(train_images.shape)\n",
        "print(labels.shape)\n",
        "cv2_imshow(train_images[0])\n",
        "cv2_imshow(train_images[-1])\n",
        "cv2_imshow(labels[0])\n",
        "cv2_imshow(labels[-1])"
      ],
      "execution_count": null,
      "outputs": [
        {
          "output_type": "stream",
          "text": [
            "(13088, 80, 160, 3)\n",
            "(13088, 80, 160, 1)\n"
          ],
          "name": "stdout"
        },
        {
          "output_type": "display_data",
          "data": {
            "image/png": "[encoded data removed]",
            "text/plain": [
              "<PIL.Image.Image image mode=RGB size=160x80 at 0x7FC4D04C77B8>"
            ]
          },
          "metadata": {
            "tags": []
          }
        },
        {
          "output_type": "display_data",
          "data": {
            "image/png": "[encoded data removed]",
            "text/plain": [
              "<PIL.Image.Image image mode=RGB size=160x80 at 0x7FC4D04C7860>"
            ]
          },
          "metadata": {
            "tags": []
          }
        },
        {
          "output_type": "display_data",
          "data": {
            "image/png": "[encoded data removed]",
            "text/plain": [
              "<PIL.Image.Image image mode=RGB size=160x80 at 0x7FC4D04C7748>"
            ]
          },
          "metadata": {
            "tags": []
          }
        },
        {
          "output_type": "display_data",
          "data": {
            "image/png": "[encoded data removed]",
            "text/plain": [
              "<PIL.Image.Image image mode=RGB size=160x80 at 0x7FC4D04C77F0>"
            ]
          },
          "metadata": {
            "tags": []
          }
        }
      ]
    },
    {
      "cell_type": "code",
      "metadata": {
        "id": "xD6YtHJS7Q0_",
        "colab": {
          "base_uri": "https://localhost:8080/"
        },
        "outputId": "317b1c8a-fb2a-46ab-df2d-326afb72951b"
      },
      "source": [
        "# Normalize labels - training images get normalized to start in the network\n",
        "#labels = labels / 255\n",
        "\n",
        "# Shuffle images along with their labels, then split into training/validation sets\n",
        "train_images, labels = shuffle(train_images, labels)\n",
        "# Test size may be 10% or 20%\n",
        "X_train, X_val, y_train, y_val = train_test_split(train_images, labels, test_size=0.15)\n",
        "\n",
        "# Batch size, epochs and pool size below are all paramaters to fiddle with for optimization\n",
        "batch_size = 131\n",
        "epochs = 10\n",
        "pool_size = (2, 2)\n",
        "input_shape = X_train.shape[1:]\n",
        "\n",
        "# Create the neural network\n",
        "model = create_model(input_shape, pool_size)\n",
        "\n",
        "# Using a generator to help the model use less data\n",
        "# Channel shifts help with shadows slightly\n",
        "datagen = ImageDataGenerator(channel_shift_range=0.2)\n",
        "datagen.fit(X_train)\n",
        "\n",
        "# Compiling and training the model\n",
        "model.compile(optimizer='Adam', loss='mean_squared_error', metrics=[\n",
        "        MeanSquaredError(),\n",
        "        Accuracy(),\n",
        "    ])\n",
        "history = model.fit(datagen.flow(X_train, y_train, batch_size=batch_size), steps_per_epoch=len(X_train)/batch_size,\n",
        "epochs=epochs, verbose=1, validation_data=(X_val, y_val))\n",
        "\n",
        "# Freeze layers since training is done\n",
        "model.trainable = False\n",
        "model.compile(optimizer='Adam', loss='mean_squared_error',metrics=[\n",
        "        MeanSquaredError(),\n",
        "        Accuracy(),\n",
        "    ])\n",
        "\n",
        "# Save model architecture and weights\n",
        "model.save('/content/drive/My Drive/Ego-Lane-Detection-on-CARLA/full_CNN_model.h5')\n",
        "\n",
        "# Show summary of model\n",
        "model.summary()"
      ],
      "execution_count": null,
      "outputs": [
        {
          "output_type": "stream",
          "text": [
            "Epoch 1/10\n",
            "85/84 [==============================] - 703s 8s/step - loss: 3527.8113 - mean_squared_error: 3527.8115 - accuracy: 0.0162 - val_loss: 9345.1846 - val_mean_squared_error: 9345.1846 - val_accuracy: 1.8899e-04\n",
            "Epoch 2/10\n",
            "85/84 [==============================] - 703s 8s/step - loss: 1984.8982 - mean_squared_error: 1984.8979 - accuracy: 0.0045 - val_loss: 2265.7207 - val_mean_squared_error: 2265.7205 - val_accuracy: 0.0175\n",
            "Epoch 3/10\n",
            "85/84 [==============================] - 703s 8s/step - loss: 1537.6066 - mean_squared_error: 1537.6066 - accuracy: 0.5980 - val_loss: 2261.3438 - val_mean_squared_error: 2261.3440 - val_accuracy: 0.7337\n",
            "Epoch 4/10\n",
            "85/84 [==============================] - 701s 8s/step - loss: 1056.8821 - mean_squared_error: 1056.8821 - accuracy: 0.8046 - val_loss: 3602.7024 - val_mean_squared_error: 3602.7021 - val_accuracy: 0.8400\n",
            "Epoch 5/10\n",
            "85/84 [==============================] - 702s 8s/step - loss: 916.0937 - mean_squared_error: 916.0937 - accuracy: 0.8267 - val_loss: 3492.9680 - val_mean_squared_error: 3492.9688 - val_accuracy: 0.8443\n",
            "Epoch 6/10\n",
            "85/84 [==============================] - 703s 8s/step - loss: 783.7750 - mean_squared_error: 783.7750 - accuracy: 0.8326 - val_loss: 3535.1018 - val_mean_squared_error: 3535.1008 - val_accuracy: 0.8512\n",
            "Epoch 7/10\n",
            "85/84 [==============================] - 706s 8s/step - loss: 762.8215 - mean_squared_error: 762.8218 - accuracy: 0.8362 - val_loss: 3830.9431 - val_mean_squared_error: 3830.9431 - val_accuracy: 0.8505\n",
            "Epoch 8/10\n",
            "85/84 [==============================] - 708s 8s/step - loss: 658.5217 - mean_squared_error: 658.5218 - accuracy: 0.8390 - val_loss: 3815.2454 - val_mean_squared_error: 3815.2454 - val_accuracy: 0.8537\n",
            "Epoch 9/10\n",
            "85/84 [==============================] - 703s 8s/step - loss: 664.7441 - mean_squared_error: 664.7440 - accuracy: 0.8406 - val_loss: 2855.2910 - val_mean_squared_error: 2855.2905 - val_accuracy: 0.8509\n",
            "Epoch 10/10\n",
            "85/84 [==============================] - 703s 8s/step - loss: 650.2641 - mean_squared_error: 650.2639 - accuracy: 0.8403 - val_loss: 2951.6406 - val_mean_squared_error: 2951.6406 - val_accuracy: 0.8508\n",
            "Model: \"sequential\"\n",
            "_________________________________________________________________\n",
            "Layer (type)                 Output Shape              Param #   \n",
            "=================================================================\n",
            "batch_normalization (BatchNo (None, 80, 160, 3)        12        \n",
            "_________________________________________________________________\n",
            "Conv1 (Conv2D)               (None, 78, 158, 8)        224       \n",
            "_________________________________________________________________\n",
            "Conv2 (Conv2D)               (None, 76, 156, 16)       1168      \n",
            "_________________________________________________________________\n",
            "max_pooling2d (MaxPooling2D) (None, 38, 78, 16)        0         \n",
            "_________________________________________________________________\n",
            "Conv3 (Conv2D)               (None, 36, 76, 16)        2320      \n",
            "_________________________________________________________________\n",
            "dropout (Dropout)            (None, 36, 76, 16)        0         \n",
            "_________________________________________________________________\n",
            "Conv4 (Conv2D)               (None, 34, 74, 32)        4640      \n",
            "_________________________________________________________________\n",
            "dropout_1 (Dropout)          (None, 34, 74, 32)        0         \n",
            "_________________________________________________________________\n",
            "Conv5 (Conv2D)               (None, 32, 72, 32)        9248      \n",
            "_________________________________________________________________\n",
            "dropout_2 (Dropout)          (None, 32, 72, 32)        0         \n",
            "_________________________________________________________________\n",
            "max_pooling2d_1 (MaxPooling2 (None, 16, 36, 32)        0         \n",
            "_________________________________________________________________\n",
            "Conv6 (Conv2D)               (None, 14, 34, 64)        18496     \n",
            "_________________________________________________________________\n",
            "dropout_3 (Dropout)          (None, 14, 34, 64)        0         \n",
            "_________________________________________________________________\n",
            "Conv7 (Conv2D)               (None, 12, 32, 64)        36928     \n",
            "_________________________________________________________________\n",
            "dropout_4 (Dropout)          (None, 12, 32, 64)        0         \n",
            "_________________________________________________________________\n",
            "max_pooling2d_2 (MaxPooling2 (None, 6, 16, 64)         0         \n",
            "_________________________________________________________________\n",
            "up_sampling2d (UpSampling2D) (None, 12, 32, 64)        0         \n",
            "_________________________________________________________________\n",
            "Deconv1 (Conv2DTranspose)    (None, 14, 34, 64)        36928     \n",
            "_________________________________________________________________\n",
            "dropout_5 (Dropout)          (None, 14, 34, 64)        0         \n",
            "_________________________________________________________________\n",
            "Deconv2 (Conv2DTranspose)    (None, 16, 36, 64)        36928     \n",
            "_________________________________________________________________\n",
            "dropout_6 (Dropout)          (None, 16, 36, 64)        0         \n",
            "_________________________________________________________________\n",
            "up_sampling2d_1 (UpSampling2 (None, 32, 72, 64)        0         \n",
            "_________________________________________________________________\n",
            "Deconv3 (Conv2DTranspose)    (None, 34, 74, 32)        18464     \n",
            "_________________________________________________________________\n",
            "dropout_7 (Dropout)          (None, 34, 74, 32)        0         \n",
            "_________________________________________________________________\n",
            "Deconv4 (Conv2DTranspose)    (None, 36, 76, 32)        9248      \n",
            "_________________________________________________________________\n",
            "dropout_8 (Dropout)          (None, 36, 76, 32)        0         \n",
            "_________________________________________________________________\n",
            "Deconv5 (Conv2DTranspose)    (None, 38, 78, 16)        4624      \n",
            "_________________________________________________________________\n",
            "dropout_9 (Dropout)          (None, 38, 78, 16)        0         \n",
            "_________________________________________________________________\n",
            "up_sampling2d_2 (UpSampling2 (None, 76, 156, 16)       0         \n",
            "_________________________________________________________________\n",
            "Deconv6 (Conv2DTranspose)    (None, 78, 158, 16)       2320      \n",
            "_________________________________________________________________\n",
            "Final (Conv2DTranspose)      (None, 80, 160, 1)        145       \n",
            "=================================================================\n",
            "Total params: 181,693\n",
            "Trainable params: 0\n",
            "Non-trainable params: 181,693\n",
            "_________________________________________________________________\n"
          ],
          "name": "stdout"
        }
      ]
    },
    {
      "cell_type": "code",
      "metadata": {
        "id": "9FQUyHOLmlLC"
      },
      "source": [
        "new_labels = labels"
      ],
      "execution_count": null,
      "outputs": []
    },
    {
      "cell_type": "code",
      "metadata": {
        "id": "hHNFZviQEpZf",
        "colab": {
          "base_uri": "https://localhost:8080/"
        },
        "outputId": "94b023ab-dc23-4e24-a977-6924db00d148"
      },
      "source": [
        "cv2_imshow(new_labels[0])\n",
        "cv2_imshow(new_labels[-1])"
      ],
      "execution_count": null,
      "outputs": [
        {
          "output_type": "display_data",
          "data": {
            "image/png": "[encoded data removed]",
            "text/plain": [
              "<PIL.Image.Image image mode=RGB size=160x80 at 0x7FC4D04C7860>"
            ]
          },
          "metadata": {
            "tags": []
          }
        },
        {
          "output_type": "display_data",
          "data": {
            "image/png": "[encoded data removed]",
            "text/plain": [
              "<PIL.Image.Image image mode=RGB size=160x80 at 0x7FC4D04C7320>"
            ]
          },
          "metadata": {
            "tags": []
          }
        }
      ]
    },
    {
      "cell_type": "code",
      "metadata": {
        "id": "kcIHopoWEuQ6",
        "colab": {
          "base_uri": "https://localhost:8080/"
        },
        "outputId": "317ffedd-2b69-45df-93d2-07ec472dcc82"
      },
      "source": [
        "img = train_images[0]\n",
        "img = np.array(img)\n",
        "img = img[None,:,:,:]\n",
        "print(img.shape)\n",
        "p = model.predict(img)\n",
        "print(p.shape)\n",
        "p_new = p[-1,:,:]\n",
        "print(p_new.shape)\n",
        "cv2_imshow(p_new)"
      ],
      "execution_count": null,
      "outputs": [
        {
          "output_type": "stream",
          "text": [
            "(1, 80, 160, 3)\n",
            "(1, 80, 160, 1)\n",
            "(80, 160, 1)\n"
          ],
          "name": "stdout"
        },
        {
          "output_type": "display_data",
          "data": {
            "image/png": "[encoded data removed]",
            "text/plain": [
              "<PIL.Image.Image image mode=RGB size=160x80 at 0x7FC4FEFF7C18>"
            ]
          },
          "metadata": {
            "tags": []
          }
        }
      ]
    },
    {
      "cell_type": "code",
      "metadata": {
        "id": "lcnmsqlBC4PI"
      },
      "source": [
        "with open('/content/drive/My Drive/Ego-Lane-Detection-on-CARLA/model_history', 'wb') as file_history:\n",
        "        pickle.dump(history.history, file_history)"
      ],
      "execution_count": null,
      "outputs": []
    },
    {
      "cell_type": "code",
      "metadata": {
        "id": "80pSkFTDvbVE"
      },
      "source": [
        "with open('/content/drive/My Drive/Ego-Lane-Detection-on-CARLA/model_history', 'rb') as f:\n",
        "    # load using pickle de-serializer\n",
        "    history = pickle.load(f)"
      ],
      "execution_count": null,
      "outputs": []
    },
    {
      "cell_type": "code",
      "metadata": {
        "id": "co7P_oPAG3kC",
        "colab": {
          "base_uri": "https://localhost:8080/",
          "height": 295
        },
        "outputId": "2a4f3e5c-878b-482d-c9cb-d8e34bada1ae"
      },
      "source": [
        "plt.plot(history['accuracy'])\n",
        "plt.plot(history['val_accuracy'])\n",
        "plt.title('Model accuracy')\n",
        "plt.ylabel('accuracy')\n",
        "plt.xlabel('epoch')\n",
        "plt.legend(['train', 'test'], loc='upper left')\n",
        "plt.savefig('/content/drive/My Drive/Ego-Lane-Detection-on-CARLA/acurracy.png')\n",
        "plt.show()"
      ],
      "execution_count": null,
      "outputs": [
        {
          "output_type": "display_data",
          "data": {
            "image/png": "[encoded data removed]",
            "text/plain": [
              "<Figure size 432x288 with 1 Axes>"
            ]
          },
          "metadata": {
            "tags": [],
            "needs_background": "light"
          }
        }
      ]
    },
    {
      "cell_type": "code",
      "metadata": {
        "id": "dBjqaiw9BwNn",
        "colab": {
          "base_uri": "https://localhost:8080/",
          "height": 295
        },
        "outputId": "5fcc4531-7bdd-4954-ef8d-75dd8358fb37"
      },
      "source": [
        "plt.plot(history['mean_squared_error'])\n",
        "plt.plot(history['val_mean_squared_error'])\n",
        "plt.title('Model MSE')\n",
        "plt.ylabel('MSE')\n",
        "plt.xlabel('epoch')\n",
        "plt.legend(['train', 'test'], loc='upper left')\n",
        "plt.savefig('/content/drive/My Drive/Ego-Lane-Detection-on-CARLA/MSE_or_Loss.png')\n",
        "plt.show()"
      ],
      "execution_count": null,
      "outputs": [
        {
          "output_type": "display_data",
          "data": {
            "image/png": "[encoded data removed]",
            "text/plain": [
              "<Figure size 432x288 with 1 Axes>"
            ]
          },
          "metadata": {
            "tags": [],
            "needs_background": "light"
          }
        }
      ]
    },
    {
      "cell_type": "code",
      "metadata": {
        "id": "Ey5JpkTG6nvB",
        "colab": {
          "base_uri": "https://localhost:8080/"
        },
        "outputId": "4b357232-6980-44f8-f848-9e7d06dfee21"
      },
      "source": [
        "print(history['accuracy'][-1],history['val_accuracy'][-1])"
      ],
      "execution_count": null,
      "outputs": [
        {
          "output_type": "stream",
          "text": [
            "0.8402789235115051 0.8507924675941467\n"
          ],
          "name": "stdout"
        }
      ]
    },
    {
      "cell_type": "code",
      "metadata": {
        "id": "l-i-nPXA9YeQ",
        "colab": {
          "base_uri": "https://localhost:8080/"
        },
        "outputId": "d650e79b-80f2-4312-db1d-8d746446126e"
      },
      "source": [
        "print(history['mean_squared_error'][-1],history['val_mean_squared_error'][-1])"
      ],
      "execution_count": null,
      "outputs": [
        {
          "output_type": "stream",
          "text": [
            "650.263916015625 2951.640625\n"
          ],
          "name": "stdout"
        }
      ]
    },
    {
      "cell_type": "code",
      "metadata": {
        "id": "hbyNkOM_9lw7"
      },
      "source": [
        ""
      ],
      "execution_count": null,
      "outputs": []
    }
  ]
}